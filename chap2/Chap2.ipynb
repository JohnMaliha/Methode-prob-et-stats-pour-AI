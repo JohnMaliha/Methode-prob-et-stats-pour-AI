{
 "cells": [
  {
   "cell_type": "markdown",
   "metadata": {},
   "source": [
    "# MTH3302 : Méthodes probabilistes et statistiques pour l'I.A.\n",
    "\n",
    "Jonathan Jalbert<br/>\n",
    "Professeur agrégé au Département de mathématiques et de génie industriel<br/>\n",
    "Polytechnique Montréal<br/>\n",
    "\n",
    "\n",
    "# Chapitre 2 - Introduction à la régression linéaire\n",
    "\n",
    "Ce calepin Jupyter accompage le chapitre 2 des notes de cours.\n",
    "\n",
    "Chargeons d'abord les librairies nécessaires."
   ]
  },
  {
   "cell_type": "code",
   "execution_count": 1,
   "metadata": {},
   "outputs": [
    {
     "ename": "LoadError",
     "evalue": "ArgumentError: Package Combinatorics not found in current path.\n- Run `import Pkg; Pkg.add(\"Combinatorics\")` to install the Combinatorics package.",
     "output_type": "error",
     "traceback": [
      "ArgumentError: Package Combinatorics not found in current path.\n- Run `import Pkg; Pkg.add(\"Combinatorics\")` to install the Combinatorics package.",
      "",
      "Stacktrace:",
      " [1] macro expansion",
      "   @ .\\loading.jl:1163 [inlined]",
      " [2] macro expansion",
      "   @ .\\lock.jl:223 [inlined]",
      " [3] require(into::Module, mod::Symbol)",
      "   @ Base .\\loading.jl:1144"
     ]
    }
   ],
   "source": [
    "using CSV, DataFrames             # Pour charger et organiser les données\n",
    "using Gadfly                      # Pour générer des graphiques\n",
    "using Distributions               # Pour utiliser les distributions statistiques\n",
    "using LinearAlgebra               # Pour utiliser les fonctions d'algèbre linéaire\n",
    "using Combinatorics               # Pour énumérer toutes les possibilités"
   ]
  },
  {
   "cell_type": "markdown",
   "metadata": {},
   "source": [
    "Si les librairies ne sont pas installées, excécutez le code suivant :\n",
    "\n",
    "```julia\n",
    "using Pkg\n",
    "Pkg.add([\"CSV\", \"DataFrames\", \"Combinatorics\", \"Gadfly\", \"Distributions\"])\n",
    "```"
   ]
  },
  {
   "cell_type": "markdown",
   "metadata": {},
   "source": [
    "# Chargement des données"
   ]
  },
  {
   "cell_type": "code",
   "execution_count": null,
   "metadata": {},
   "outputs": [],
   "source": [
    "# Chargement du fichier de données \n",
    "\n",
    "filename = joinpath(dirname(@__FILE__), \"Data\", \"FF_emissions.csv\")\n",
    "\n",
    "data = CSV.read(filename, DataFrame)\n",
    "\n",
    "# Les colonnes sont renommées avec des noms plus courts\n",
    "rename!(data, :FF_emissions => :FF)\n",
    "rename!(data, :LUC_emissions => :LUC)\n",
    "rename!(data, :ocean_sink => :Ocean)\n",
    "rename!(data, :land_sink => :Land)\n",
    "rename!(data, :T_anomaly => :T)\n",
    "\n",
    "# Les océans et les strates végétales absorbent le carbone\n",
    "data[!,:Ocean] = -data[:,:Ocean]\n",
    "data[!,:Land] = -data[:,:Land]\n",
    "\n",
    "# Affichage des 5 premières lignes du tableau de données\n",
    "first(data,5)"
   ]
  },
  {
   "cell_type": "code",
   "execution_count": null,
   "metadata": {},
   "outputs": [],
   "source": [
    "# Extraction des données du DataFrame\n",
    "# Utile pour écrire simplement les calculs matriciels\n",
    "\n",
    "x₁ = data[:,:FF]     # Vecteur de la variable explicative 1\n",
    "x₂ = data[:,:LUC]    # Vecteur de la variable explicative 2\n",
    "x₃ = data[:,:Ocean]  # Vecteur de la variable explicative 3\n",
    "x₄ = data[:,:Land]   # Vecteur de la variable explicative 4\n",
    "y = data[:,:T]       # Variable d'intérêt\n",
    "n = length(y)        # Nombre d'observations"
   ]
  },
  {
   "cell_type": "markdown",
   "metadata": {},
   "source": [
    "# Analyse exploratoire\n",
    "\n",
    "Étape permettant d'obtenir une vision globale du jeu de données. Elle peut également permettre de découvrir des dépendances entre les variables. L'analyse exploratoire peut s'affectuer à l'aide de graphiques et de statistiques simples."
   ]
  },
  {
   "cell_type": "code",
   "execution_count": null,
   "metadata": {},
   "outputs": [],
   "source": [
    "# Traçage de l'anomalie de température en fonction des années\n",
    "\n",
    "Gadfly.set_default_plot_size(12cm, 8cm)\n",
    "fig1 = plot(data, x=:Year, y=:T, Geom.line,\n",
    "    Coord.Cartesian(xmin=1959, xmax=2015), Guide.xticks(ticks=1960:10:2015),\n",
    "    Guide.xlabel(\"Année\"),\n",
    "    Guide.ylabel(\"Anomalie de température (°C)\")) "
   ]
  },
  {
   "cell_type": "code",
   "execution_count": null,
   "metadata": {},
   "outputs": [],
   "source": [
    "# Traçage des composantes du cycle du carbone en fonction des années\n",
    "\n",
    "Gadfly.set_default_plot_size(14cm, 8cm)\n",
    "fig2 = plot(stack(data, [:FF, :LUC, :Ocean, :Land]), x=:Year, y=:value, color=:variable, Geom.line,\n",
    "    Coord.Cartesian(xmin=1959, xmax=2015), Guide.xticks(ticks=1960:10:2015),\n",
    "    Guide.xlabel(\"Année\"),\n",
    "    Guide.ylabel(\"Carbone émis (Gt)\"))"
   ]
  },
  {
   "cell_type": "markdown",
   "metadata": {},
   "source": [
    "# 2.1 Modèle de régression linéaire simple\n",
    "\n",
    "Pour commencer, on utilise seulement les émissions par combustion de combustibles fossibles \n",
    "comme variable explicative."
   ]
  },
  {
   "cell_type": "markdown",
   "metadata": {},
   "source": [
    "### Estimation des paramètres du modèle de régression linéaire simple"
   ]
  },
  {
   "cell_type": "code",
   "execution_count": null,
   "metadata": {},
   "outputs": [],
   "source": [
    "# Calcul des statistiques utiles\n",
    "x̄ = mean(x₁)\n",
    "ȳ = mean(y)\n",
    "\n",
    "# Estimation des paramètres\n",
    "β̂₁ = sum( (x₁[i] - x̄)*(y[i] - ȳ) for i=1:n) / sum( (x₁[i] - x̄)^2 for i=1:n )\n",
    "\n",
    "β̂₀ = ȳ - β̂₁*x̄\n",
    "\n",
    "println(\"L'ordonnée à l'origine estimée est β̂₀=\", β̂₀)\n",
    "println(\"La pente de la droite de régression estimée est β̂₁=\", β̂₁)\n"
   ]
  },
  {
   "cell_type": "markdown",
   "metadata": {},
   "source": [
    "### Affichage de la droite de régression"
   ]
  },
  {
   "cell_type": "code",
   "execution_count": null,
   "metadata": {},
   "outputs": [],
   "source": [
    "Gadfly.set_default_plot_size(12cm, 8cm)\n",
    "plot(data, x=:FF, y=:T, Geom.point, \n",
    "    intercept = [β̂₀], slope = [β̂₁], Geom.abline(color=\"red\", style=:dash),\n",
    "    Coord.cartesian(xmin=2, xmax=10),\n",
    "    Guide.xlabel(\"Carbone émis par la combustion de FF (Gt)\"),\n",
    "    Guide.ylabel(\"Anomalie de température (°C)\"))"
   ]
  },
  {
   "cell_type": "markdown",
   "metadata": {},
   "source": [
    "# 2.2 Modèle de régression linéaire multiple\n",
    "\n",
    "Dans cette section, toutes les variables explicatives sont utilisées pour expliquer les anomalies de température."
   ]
  },
  {
   "cell_type": "markdown",
   "metadata": {},
   "source": [
    "### 2.2.2 Estimation des paramètres du modèle de régression multiple\n",
    "\n",
    "Estimation des paramètres à l'aide de la méthode des moindres carrés."
   ]
  },
  {
   "cell_type": "code",
   "execution_count": null,
   "metadata": {},
   "outputs": [],
   "source": [
    "# Construction de la matrice de structure (Notez la colonnes de 1)\n",
    "X = hcat(ones(n),x₁,x₂,x₃,x₄)\n",
    "\n",
    "# Estimation des paramètres du modèle de régression\n",
    "β̂ = (X'X)\\X'y\n",
    "\n",
    "println(\"Les estimations des coefficient de régression sont β̂ = \", β̂)"
   ]
  },
  {
   "cell_type": "markdown",
   "metadata": {},
   "source": [
    "### 2.2.3 Prévision de l'anomalie de température\n",
    "\n",
    "Supposons que l'on veut savoir qu'elle sera l'anomalie de température si on émet les quantités suivantes :\n",
    "\n",
    " - 10 Gt de C par FF\n",
    " - 1.5 Gt de C par LUC\n",
    " - -1 Gt de C par Ocean\n",
    " - -1 Gt de C par Land"
   ]
  },
  {
   "cell_type": "code",
   "execution_count": null,
   "metadata": {},
   "outputs": [],
   "source": [
    "# Définition du vecteur des variables explicatives pour lesquelles on veut estimer la variable d'intérêt\n",
    "x₀ = [1 10 1.5 -1 -1]\n",
    "\n",
    "# Estimation de l'anomalie de température\n",
    "Ŷ₀ = x₀*β̂\n",
    "\n",
    "println(\"L'anomalie de température estimée correspondante est de \",Ŷ₀)"
   ]
  },
  {
   "cell_type": "markdown",
   "metadata": {},
   "source": [
    "# 2.3 Indice de qualité du modèle de régression\n",
    "\n",
    "## 2.3.1 Décomposition de la variabilité"
   ]
  },
  {
   "cell_type": "code",
   "execution_count": null,
   "metadata": {},
   "outputs": [],
   "source": [
    "ȳ = mean(y)\n",
    "ŷ = X*β̂\n",
    "\n",
    "e = y-ŷ\n",
    "\n",
    "SST = sum( (y .- ȳ).^2 )\n",
    "SSR = sum( (ŷ .- ȳ).^2 )\n",
    "SSE = sum(e.^2)\n",
    "\n",
    "println(\"La variabilité totale est de \", SST)\n",
    "println(\"La variabilité expliquée est de \", SSR)\n",
    "println(\"La variabilité résiduelle est de \", SSE)"
   ]
  },
  {
   "cell_type": "markdown",
   "metadata": {},
   "source": [
    "On peut vérifier que $e^\\top ŷ = 0$ et $e^\\top 1 = 0$."
   ]
  },
  {
   "cell_type": "code",
   "execution_count": null,
   "metadata": {},
   "outputs": [],
   "source": [
    "println(\"e'ŷ = \",e'*ŷ) \n",
    "println(\"e'1 = \",e'*ones(n)) "
   ]
  },
  {
   "cell_type": "markdown",
   "metadata": {},
   "source": [
    "## 2.3.2 Coefficient de détermination"
   ]
  },
  {
   "cell_type": "code",
   "execution_count": null,
   "metadata": {},
   "outputs": [],
   "source": [
    "R² = SSR/SST\n",
    "println(\"Le coefficient de détermination est de \", R²)"
   ]
  },
  {
   "cell_type": "markdown",
   "metadata": {},
   "source": [
    "# 2.5 Propriétés des estimateurs"
   ]
  },
  {
   "cell_type": "markdown",
   "metadata": {},
   "source": [
    "## 2.5.2 Estimation de la variance de l'erreur"
   ]
  },
  {
   "cell_type": "code",
   "execution_count": null,
   "metadata": {},
   "outputs": [],
   "source": [
    "# Nb de variables explicatives\n",
    "p = size(X,2)-1 # la colonne de 1 ne constitue pas une variable explicative\n",
    "\n",
    "# Estimation de la variance de l'erreur\n",
    "σ̂² = 1/(n-p-1)*sum( e.^2 )\n",
    "\n",
    "println(\"σ̂² = $σ̂²\")"
   ]
  },
  {
   "cell_type": "markdown",
   "metadata": {},
   "source": [
    "## 2.5.4 Estimation de la matrice de covariance des estimateurs "
   ]
  },
  {
   "cell_type": "code",
   "execution_count": null,
   "metadata": {},
   "outputs": [],
   "source": [
    "V = σ̂² * inv(X'X)"
   ]
  },
  {
   "cell_type": "markdown",
   "metadata": {},
   "source": [
    "# 2.6 Tests d'hypothèses et intervalles de confiance\n",
    "\n",
    "## 2.6.1 Test sur l'importance de la régression"
   ]
  },
  {
   "cell_type": "code",
   "execution_count": null,
   "metadata": {},
   "outputs": [],
   "source": [
    "# Calcul de la statistique observée du test\n",
    "F₀ = SSR/SSE * (n-p-1)/p\n",
    "\n",
    "xx = 0:.1:100\n",
    "pd = FDist(p, n-p-1) \n",
    "f = pdf.(pd,xx)\n",
    "\n",
    "density= layer(x=xx, y=f, Geom.line, Theme(default_color=\"deepskyblue\"))\n",
    "statObs = layer(x=[F₀], y=[0], Geom.point, Theme(default_color=\"red\") )\n",
    "\n",
    "Gadfly.set_default_plot_size(21cm, 8cm)\n",
    "plot(density, statObs,\n",
    "    Guide.manual_color_key(\"Légende\", [\"Densité sous H₀\", \"Stat obs\"], [\"deepskyblue\",\"red\"]),\n",
    "    Coord.Cartesian(xmin=0,xmax=85), Guide.xlabel(\"x\"), Guide.ylabel(\"f\"))"
   ]
  },
  {
   "cell_type": "code",
   "execution_count": null,
   "metadata": {},
   "outputs": [],
   "source": [
    "# Première façon de tester l'importance de la régression : comparaison avec le seuil critique\n",
    "\n",
    "α = 0.05\n",
    "point_critique = quantile(pd,1-α)\n",
    "if F₀ > point_critique\n",
    "    println(\"La régression est significative au seuil de $α car F₀ > point critique.\n",
    "        On a en effet que F₀ = $F₀ > $point_critique)\")\n",
    "else\n",
    "    println(\"La régression n'est pas significative au seuil de $α car F₀ < point critique.\n",
    "        On a en effet que F₀ = $F₀ < $point_critique)\")\n",
    "end"
   ]
  },
  {
   "cell_type": "code",
   "execution_count": null,
   "metadata": {},
   "outputs": [],
   "source": [
    "# Deuxième façon de tester l'importance de la régression : calcul de la valeur-p\n",
    "\n",
    "α = 0.05\n",
    "# calcul de la probabilité d'observer une statistique plus extrême que celle obtenue\n",
    "seuil_observe = ccdf(pd,F₀) # la fonction ccdf correspond à 1-cdf()\n",
    "if seuil_observe < α\n",
    "    println(\"La régression est significative au seuil de $α car le seuil observé du test est plus petit que α.\n",
    "        On a en effet que seuil observé = $seuil_observe < $α\")\n",
    "else\n",
    "    println(\"La régression n'est pas significative au seuil de $α car le seuil observé du test est plus grand que α.\n",
    "        On a en effet que seuil observé = $seuil_observe > $α\")\n",
    "end"
   ]
  },
  {
   "cell_type": "markdown",
   "metadata": {},
   "source": [
    "## 2.6.2 Intervalles de confiance sur les coefficients de régression"
   ]
  },
  {
   "cell_type": "code",
   "execution_count": null,
   "metadata": {},
   "outputs": [],
   "source": [
    "# calcul du quantile de la loi de Student\n",
    "tₐ = quantile(TDist(n-p-1),.975)\n",
    "\n",
    "# Affichage des intervalles de confiance\n",
    "coeff_names = [\"β₀\", \"β₁\", \"β₂\", \"β₃\", \"β₄\"]\n",
    "for j=0:p\n",
    "    se = tₐ*sqrt(V[j+1,j+1])\n",
    "   println(\"L'intervalle de confiance de niveau 95% pour $(coeff_names[j+1]) est [$(β̂[j+1] - se) , $(β̂[j+1] + se)]\")\n",
    "end"
   ]
  },
  {
   "cell_type": "markdown",
   "metadata": {},
   "source": [
    "## 2.6.3 Intervalle de confiance sur une prédiction\n",
    "\n",
    "Reprenons la prévision de la section 2.2.3. Calculons maintenons un intervalle de confiance de niveau 95 % pour cette prévision."
   ]
  },
  {
   "cell_type": "code",
   "execution_count": null,
   "metadata": {},
   "outputs": [],
   "source": [
    "# Calcul de la marge d'erreur\n",
    "se = quantile(TDist(n-p-1),.975)*sqrt( σ̂²*(1 .+x₀/(X'X)*x₀' )\n",
    "\n",
    "println(\"L'intervalle de confiance de Ŷ₀ est [$(Ŷ₀[1] - se[1]) , $(Ŷ₀[1] + se[1])]\")"
   ]
  },
  {
   "cell_type": "markdown",
   "metadata": {},
   "source": []
  },
  {
   "cell_type": "markdown",
   "metadata": {},
   "source": [
    "# 2.7 Validation des hypothèses de la régression linéaire\n",
    "\n",
    "Analyse visuelle des résidus"
   ]
  },
  {
   "cell_type": "code",
   "execution_count": null,
   "metadata": {},
   "outputs": [],
   "source": [
    "function henryplot(y::Vector{<:Real})\n",
    "\n",
    "    n = length(y)\n",
    "    ysorted = sort(y)\n",
    "\n",
    "    p = ( collect(1:n) .- .5 ) /n\n",
    "\n",
    "    fd = fit(Normal,y)\n",
    "\n",
    "    q = quantile.(fd,p)\n",
    "\n",
    "    plot(x=ysorted, y=q, Geom.point,\n",
    "    Guide.xlabel(\"Empirical quantiles\"), Guide.ylabel(\"Estimated quantiles\"),\n",
    "    Theme(discrete_highlight_color=c->nothing),\n",
    "    Geom.abline(color=\"red\"))\n",
    "\n",
    "\n",
    "end"
   ]
  },
  {
   "cell_type": "code",
   "execution_count": null,
   "metadata": {},
   "outputs": [],
   "source": [
    "# Stockage des variables dans un DataFrame pour un affichage plus facile\n",
    "df = DataFrame(Ŷ = ŷ, e = e)\n",
    "\n",
    "Gadfly.set_default_plot_size(21cm, 8cm)\n",
    "f1 = plot(df, x = :Ŷ, y = :e, Geom.point, Coord.Cartesian(xmin=-.1,xmax=1,ymin=-.3,ymax=.3))\n",
    "f2 = henryplot(e)\n",
    "\n",
    "hstack([f1, f2])\n"
   ]
  },
  {
   "cell_type": "code",
   "execution_count": null,
   "metadata": {},
   "outputs": [],
   "source": [
    "# Exemple de droite de Henry lorsque la distribution n'est pas normale\n",
    "\n",
    "\n",
    "Gadfly.set_default_plot_size(12cm, 8cm)\n",
    "henryplot(rand(Gamma(1,1),30))"
   ]
  },
  {
   "cell_type": "markdown",
   "metadata": {},
   "source": [
    "# 2.9 Multicolinéarité\n",
    "\n",
    "Vérification de la multicolinéarité avec le VIF."
   ]
  },
  {
   "cell_type": "code",
   "execution_count": null,
   "metadata": {},
   "outputs": [],
   "source": [
    "variables = names(data)[2:5]\n",
    "\n",
    "df = DataFrame(Variable = String[], VIF = Float64[])\n",
    "\n",
    "for variable in combinations(variables,1)\n",
    "    \n",
    "#     println(variable[])\n",
    "   \n",
    "    y = data[:, variable[] ]\n",
    "    ȳ = mean(y)\n",
    "    \n",
    "    X = hcat(ones(n), Matrix(data[:, setdiff(variables, variable)]) )\n",
    "    \n",
    "    β̂ = X\\y\n",
    "    ŷ = X*β̂\n",
    "\n",
    "    e = y-ŷ\n",
    "\n",
    "    SSE = e'*e\n",
    "    SST = sum( (y .- ȳ).^2 )\n",
    "    \n",
    "    R² = 1 - SSE/SST\n",
    "    \n",
    "    VIF = 1/(1-R²)\n",
    "    \n",
    "    push!(df, [variable[], VIF])\n",
    "    \n",
    "end\n",
    "\n",
    "df\n"
   ]
  },
  {
   "cell_type": "markdown",
   "metadata": {},
   "source": [
    "# 2.10 Sélection des variables explicatives\n",
    "\n",
    "Dans cette section, on parcourt tous les modèles possibles. Il y en a 16 (en fait 15 si on exclut la possibilité où aucune des variables explicatives n'est sélectionnée). On calcule le coefficient de détermination ajusté de chacun de ces modèles pour déterminer le meilleur.\n",
    "\n",
    "On constatera que le meilleur modèle est celui utilisant les 4 variables explicatives."
   ]
  },
  {
   "cell_type": "code",
   "execution_count": null,
   "metadata": {},
   "outputs": [],
   "source": [
    "\n",
    "y = data[:, :T]\n",
    "ȳ = mean(y)\n",
    "SST = sum( (y .- ȳ).^2 )\n",
    "\n",
    "\n",
    "variables = names(data)[2:5]\n",
    "\n",
    "df = DataFrame(Variable = Vector{String}[], R² = Float64[])\n",
    "\n",
    "for variable in combinations(variables)\n",
    "    \n",
    "    p = length(variable)\n",
    "    \n",
    "    X = hcat(ones(n), Matrix(data[:, variable]))\n",
    "    \n",
    "    \n",
    "    β̂ = X\\y\n",
    "    ŷ = X*β̂\n",
    "\n",
    "    e = y-ŷ\n",
    "\n",
    "    SSE = e'*e\n",
    "\n",
    "    R²aj =  1 - SSE/SST * (n-1)/(n-p-1)\n",
    "    \n",
    "    push!(df, [variable, R²aj])\n",
    "#     println(variable)\n",
    "    \n",
    "end\n",
    "\n",
    "sort(df, :R², rev=true)"
   ]
  },
  {
   "cell_type": "code",
   "execution_count": null,
   "metadata": {},
   "outputs": [],
   "source": []
  },
  {
   "cell_type": "markdown",
   "metadata": {},
   "source": [
    "## On peut reproduire les résultats avec la librairie GLM"
   ]
  },
  {
   "cell_type": "code",
   "execution_count": null,
   "metadata": {},
   "outputs": [],
   "source": [
    "using Pkg\n",
    "Pkg.add(\"GLM\")"
   ]
  },
  {
   "cell_type": "code",
   "execution_count": null,
   "metadata": {},
   "outputs": [],
   "source": [
    "using GLM\n",
    "\n",
    "lm(@formula(T ~ FF + LUC + Ocean + Land), data)"
   ]
  },
  {
   "cell_type": "code",
   "execution_count": null,
   "metadata": {},
   "outputs": [],
   "source": [
    "using GLM\n",
    "\n",
    "lm(@formula(T ~ FF), data)"
   ]
  },
  {
   "cell_type": "code",
   "execution_count": null,
   "metadata": {},
   "outputs": [],
   "source": [
    "# Construction de la matrice de structure (Notez la colonnes de 1)\n",
    "X = hcat(ones(n),x₁)\n",
    "\n",
    "# Estimation des paramètres du modèle de régression\n",
    "β̂ = (X'X)\\X'y"
   ]
  },
  {
   "cell_type": "code",
   "execution_count": null,
   "metadata": {},
   "outputs": [],
   "source": [
    "e = y - X*β̂\n",
    "\n",
    "SSE = sum(e.^2)\n",
    "\n",
    "# Nb de variables explicatives\n",
    "p = size(X,2)-1 # la colonne de 1 ne constitue pas une variable explicative\n",
    "\n",
    "# Estimation de la variance de l'erreur\n",
    "σ̂² = 1/(n-p-1)*sum( e.^2 )\n",
    "\n",
    "V = inv(X'X)\n",
    "\n",
    "sqrt(σ̂²*V[2,2])"
   ]
  },
  {
   "cell_type": "code",
   "execution_count": null,
   "metadata": {},
   "outputs": [],
   "source": [
    "t = β̂[2]/sqrt(σ̂²*V[2,2])"
   ]
  },
  {
   "cell_type": "code",
   "execution_count": null,
   "metadata": {},
   "outputs": [],
   "source": [
    "T = TDist(n-p-1)"
   ]
  },
  {
   "cell_type": "code",
   "execution_count": null,
   "metadata": {},
   "outputs": [],
   "source": [
    "2*ccdf(T, t)"
   ]
  },
  {
   "cell_type": "code",
   "execution_count": null,
   "metadata": {},
   "outputs": [],
   "source": [
    "# zone critique\n",
    "quantile(T, .975)"
   ]
  },
  {
   "cell_type": "code",
   "execution_count": null,
   "metadata": {},
   "outputs": [],
   "source": [
    "\n",
    "density = layer(x -> pdf(T, x), -20, 20)\n",
    "statObs = layer(x=[t], y=[0], Geom.point, Theme(default_color=\"red\") )\n",
    "\n",
    "Gadfly.set_default_plot_size(12cm, 8cm)\n",
    "plot(density, statObs,\n",
    "    Guide.manual_color_key(\"Légende\", [\"Densité sous H₀\", \"Stat obs\"], [\"deepskyblue\",\"red\"]),\n",
    "    Coord.Cartesian(xmin=-20,xmax=20), Guide.xlabel(\"x\"), Guide.ylabel(\"f\"))\n"
   ]
  },
  {
   "cell_type": "code",
   "execution_count": null,
   "metadata": {},
   "outputs": [],
   "source": [
    "β̂[2] + quantile(T, 0.975)*sqrt(σ̂²*V[2,2])"
   ]
  },
  {
   "cell_type": "code",
   "execution_count": null,
   "metadata": {},
   "outputs": [],
   "source": []
  },
  {
   "cell_type": "code",
   "execution_count": null,
   "metadata": {},
   "outputs": [],
   "source": []
  },
  {
   "cell_type": "code",
   "execution_count": null,
   "metadata": {},
   "outputs": [],
   "source": [
    "temperatures = [280, 284, 292, 295, 298, 305, 308, 315]\n",
    "viscosity = [770, 800, 840, 810, 735, 640, 590, 560]"
   ]
  },
  {
   "cell_type": "code",
   "execution_count": null,
   "metadata": {},
   "outputs": [],
   "source": [
    "df = DataFrame(Temperature = temperatures, Viscosity = viscosity)"
   ]
  },
  {
   "cell_type": "code",
   "execution_count": null,
   "metadata": {},
   "outputs": [],
   "source": [
    "plot(df, x=:Temperature, y=:Viscosity, Geom.point)"
   ]
  },
  {
   "cell_type": "code",
   "execution_count": null,
   "metadata": {},
   "outputs": [],
   "source": [
    "n = nrow(df)"
   ]
  },
  {
   "cell_type": "code",
   "execution_count": null,
   "metadata": {},
   "outputs": [],
   "source": [
    "X = hcat(ones(n), df.Temperature)"
   ]
  },
  {
   "cell_type": "code",
   "execution_count": null,
   "metadata": {},
   "outputs": [],
   "source": [
    "X = hcat(ones(n), df.Temperature, df.Temperature.^2)"
   ]
  },
  {
   "cell_type": "code",
   "execution_count": null,
   "metadata": {},
   "outputs": [],
   "source": [
    "function polynomial_structure_matrix(x::Vector{<:Real}, order::Int)\n",
    "   \n",
    "    n = length(x)\n",
    "    \n",
    "    X = ones(n)\n",
    "    \n",
    "    for i in 1:order\n",
    "       X = hcat(X, x.^i)\n",
    "    end\n",
    "    \n",
    "    return X\n",
    "    \n",
    "end"
   ]
  },
  {
   "cell_type": "code",
   "execution_count": null,
   "metadata": {},
   "outputs": [],
   "source": [
    "X = polynomial_structure_matrix(df.Temperature, 7)"
   ]
  },
  {
   "cell_type": "code",
   "execution_count": null,
   "metadata": {},
   "outputs": [],
   "source": [
    "β̂ = X\\df.Viscosity"
   ]
  },
  {
   "cell_type": "code",
   "execution_count": null,
   "metadata": {},
   "outputs": [],
   "source": [
    "ŷ = X*β̂"
   ]
  },
  {
   "cell_type": "code",
   "execution_count": null,
   "metadata": {},
   "outputs": [],
   "source": [
    "function polynome(β̂::Vector{<:Real}, x::Real)\n",
    "   \n",
    "    ŷ = 0.0\n",
    "    \n",
    "    for i in eachindex(β̂)\n",
    "        \n",
    "        ŷ += β̂[i]*x.^(i-1)\n",
    "        \n",
    "    end\n",
    "    \n",
    "    return ŷ\n",
    "    \n",
    "end"
   ]
  },
  {
   "cell_type": "code",
   "execution_count": null,
   "metadata": {},
   "outputs": [],
   "source": [
    "polynome(β̂, 280)"
   ]
  },
  {
   "cell_type": "code",
   "execution_count": null,
   "metadata": {},
   "outputs": [],
   "source": [
    "plot(x-> polynome(β̂, x), 280, 315)"
   ]
  },
  {
   "cell_type": "code",
   "execution_count": null,
   "metadata": {},
   "outputs": [],
   "source": []
  }
 ],
 "metadata": {
  "@webio": {
   "lastCommId": null,
   "lastKernelId": null
  },
  "kernelspec": {
   "display_name": "Julia 1.8.5",
   "language": "julia",
   "name": "julia-1.8"
  },
  "language_info": {
   "file_extension": ".jl",
   "mimetype": "application/julia",
   "name": "julia",
   "version": "1.8.5"
  }
 },
 "nbformat": 4,
 "nbformat_minor": 2
}
